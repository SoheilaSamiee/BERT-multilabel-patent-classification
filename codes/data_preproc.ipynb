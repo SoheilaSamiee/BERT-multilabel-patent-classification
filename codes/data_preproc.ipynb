{
 "cells": [
  {
   "cell_type": "code",
   "execution_count": 52,
   "metadata": {},
   "outputs": [
    {
     "data": {
      "text/plain": [
       "<bound method NDFrame.head of       label                          application_type_abstract  \\\n",
       "1542      B  utility  anti flutter structure   reinforcemen...   \n",
       "3301    G,B  utility Screen vibration systems are provided ...   \n",
       "3324      G  utility  developer supply device includes  dev...   \n",
       "2539  F,H,D  utility  liquid damper system for restraining ...   \n",
       "953   A,G,H  utility Methods  systems  and computer product...   \n",
       "...     ...                                                ...   \n",
       "3772      G  utility  method  generating  sequence  command...   \n",
       "5191    H,G  utility This invention   laminated structure a...   \n",
       "5226      H  utility  manufacturing method  the light emitt...   \n",
       "5390    H,C  utility  white LED lamp including   conductive...   \n",
       "860       A  utility Apparatus and methods are disclosed fo...   \n",
       "\n",
       "                               publication_title_claims  \n",
       "1542              Roof panel anti flutter reinforcement  \n",
       "3301          Methods and systems of vibrating a screen  \n",
       "3324  Developer supply device and image forming appa...  \n",
       "2539                               Liquid damper system  \n",
       "953   Detecting and identifying unauthorized account...  \n",
       "...                                                 ...  \n",
       "3772            Information gathering command generator  \n",
       "5191  Controlling warp in semiconductor laminated su...  \n",
       "5226  Manufacturing method of light emitting diode p...  \n",
       "5390  White LED lamp  backlight  light emitting devi...  \n",
       "860   Apparatus and methods for controlling and appl...  \n",
       "\n",
       "[698 rows x 3 columns]>"
      ]
     },
     "execution_count": 52,
     "metadata": {},
     "output_type": "execute_result"
    }
   ],
   "source": [
    "# Data preprocessing and splitting\n",
    "\n",
    "import pandas as pd\n",
    "import torch\n",
    "torch.manual_seed(42)\n",
    "\n",
    "file_path = '../data/all_patents_ipg210105.csv'\n",
    "#file_path = '../data/tmp/all_patents_ipg210105_3.csv'\n",
    "\n",
    "dataframe = pd.read_csv(file_path)\n",
    "dataframe.describe()\n",
    "\n",
    "# ----------------------------------------------\n",
    "#        reformatting the dataframe\n",
    "# ----------------------------------------------\n",
    "updated_df = pd.DataFrame()\n",
    "updated_df['label'] = dataframe['sections']\n",
    "updated_df['application_type_abstract'] = dataframe['application_type']+' '+dataframe['abstract']\n",
    "updated_df['publication_title_claims'] = dataframe['publication_title']#+' '+dataframe['claims']\n",
    "#updated_df['description'] = dataframe['descriptions']\n",
    "# Labels will be reformated in the main code based on classes saved in \"data/classes.txt\"\n",
    "\n",
    "\n",
    "# -----------------------------------------------\n",
    "#        train-val-test split\n",
    "# -----------------------------------------------\n",
    "seed = 42\n",
    "total_len = len(updated_df)\n",
    "test_ratio = 0.1\n",
    "val_ratio = 0.1\n",
    "train_ratio = .8\n",
    "\n",
    "\n",
    "# output is torch subset not data frame!\n",
    "\n",
    "#test_len = int(total_len * test_ratio)\n",
    "#val_len = int(total_len* val_ratio)\n",
    "#train_len = int(total_len - test_len - val_len)\n",
    "#\n",
    "#train_set, val_set, test_set = torch.utils.data.random_split(updated_df, [train_len, val_len, test_len])\n",
    "\n",
    "def train_validate_test_split(df, train_percent=.6, validate_percent=.2, seed=None):\n",
    "    np.random.seed(seed)\n",
    "    perm = np.random.permutation(df.index)\n",
    "    m = len(df.index)\n",
    "    train_end = int(train_percent * m)\n",
    "    validate_end = int(validate_percent * m) + train_end\n",
    "    train = df.iloc[perm[:train_end]]\n",
    "    validate = df.iloc[perm[train_end:validate_end]]\n",
    "    test = df.iloc[perm[validate_end:]]\n",
    "    return train, validate, test\n",
    "\n",
    "train_set, val_set, test_set = train_validate_test_split(updated_df, train_ratio, val_ratio, seed = 42)\n",
    "\n",
    "\n",
    "train_set.to_csv('../data/train.csv', index=False)\n",
    "test_set.to_csv('../data/test.csv', index=False)\n",
    "val_set.to_csv('../data/val.csv', index=False)\n",
    "\n",
    "test_set.head\n",
    "#print('Files are saved!')"
   ]
  },
  {
   "cell_type": "code",
   "execution_count": 5,
   "metadata": {},
   "outputs": [
    {
     "name": "stdout",
     "output_type": "stream",
     "text": [
      "['A', 'G']\n",
      "[1. 0. 0. 0. 0. 0. 1. 0.]\n"
     ]
    }
   ],
   "source": [
    "import pandas as pd\n",
    "import numpy as np\n",
    "\n",
    "#label_id_map ={'A':0, 'B':1, 'C':2, 'D':3, 'E':4, 'F':5, 'G':6, 'H':7}\n",
    "label_list = list(pd.read_csv(\"../data/classes.txt\",header=None).values[0])\n",
    "label_map = {label : i for i, label in enumerate(label_list)}\n",
    "\n",
    "#example = ['A','B']\n",
    "#example = ['A,B']\n",
    "#label_id = [label_map[i] for i in example]\n",
    "#print(label_id)\n",
    "\n",
    "label_map = {label : i for i, label in enumerate(label_list)}\n",
    "initlabels = ['A,G']\n",
    "a = ''.join(initlabels).split(\",\")\n",
    "print(a)\n",
    "\n",
    "label_ids = np.zeros(len(label_map))\n",
    "indices = [label_map[i] for i in a]            \n",
    "label_ids[indices]=1\n",
    "print(label_ids)"
   ]
  }
 ],
 "metadata": {
  "kernelspec": {
   "display_name": "CondaEnv_Soheila",
   "language": "python",
   "name": "condaenv_soheila"
  },
  "language_info": {
   "codemirror_mode": {
    "name": "ipython",
    "version": 3
   },
   "file_extension": ".py",
   "mimetype": "text/x-python",
   "name": "python",
   "nbconvert_exporter": "python",
   "pygments_lexer": "ipython3",
   "version": "3.6.10"
  }
 },
 "nbformat": 4,
 "nbformat_minor": 4
}
