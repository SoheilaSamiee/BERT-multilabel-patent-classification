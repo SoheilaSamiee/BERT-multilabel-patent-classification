{
 "cells": [
  {
   "cell_type": "code",
   "execution_count": null,
   "metadata": {},
   "outputs": [],
   "source": [
    "import pandas as pd\n",
    "\n",
    "file_path = '../data/all_patents_ipg210105_with_index.csv'\n",
    "dataframe = pd.read_csv(file_path)\n",
    "\n",
    "# ----------------------------------------------\n",
    "# Pate\n"
   ]
  }
 ],
 "metadata": {
  "kernelspec": {
   "display_name": "CondaEnv_Soheila",
   "language": "python",
   "name": "condaenv_soheila"
  },
  "language_info": {
   "name": ""
  }
 },
 "nbformat": 4,
 "nbformat_minor": 4
}
